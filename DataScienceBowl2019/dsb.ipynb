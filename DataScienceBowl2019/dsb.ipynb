{
 "cells": [
  {
   "cell_type": "code",
   "execution_count": 1,
   "metadata": {},
   "outputs": [],
   "source": [
    "import numpy as np\n",
    "import pandas as pd\n",
    "import matplotlib.pyplot as plt\n",
    "import time\n",
    "import warnings\n",
    "import sys\n",
    "import json\n",
    "warnings.filterwarnings(\"ignore\")"
   ]
  },
  {
   "cell_type": "code",
   "execution_count": 2,
   "metadata": {},
   "outputs": [
    {
     "name": "stdout",
     "output_type": "stream",
     "text": [
      "66.36481642723083\n"
     ]
    }
   ],
   "source": [
    "start = time.time()\n",
    "specs = pd.read_csv('./data/specs.csv')\n",
    "trainX = pd.read_csv('./data/train.csv')\n",
    "print(time.time()-start)"
   ]
  },
  {
   "cell_type": "code",
   "execution_count": 2,
   "metadata": {},
   "outputs": [],
   "source": [
    "train_label = pd.read_csv('./data/train_labels.csv')\n",
    "testX = pd.read_csv('./data/test.csv')"
   ]
  },
  {
   "cell_type": "code",
   "execution_count": 4,
   "metadata": {},
   "outputs": [
    {
     "data": {
      "text/html": [
       "<div>\n",
       "<style scoped>\n",
       "    .dataframe tbody tr th:only-of-type {\n",
       "        vertical-align: middle;\n",
       "    }\n",
       "\n",
       "    .dataframe tbody tr th {\n",
       "        vertical-align: top;\n",
       "    }\n",
       "\n",
       "    .dataframe thead th {\n",
       "        text-align: right;\n",
       "    }\n",
       "</style>\n",
       "<table border=\"1\" class=\"dataframe\">\n",
       "  <thead>\n",
       "    <tr style=\"text-align: right;\">\n",
       "      <th></th>\n",
       "      <th>event_id</th>\n",
       "      <th>game_session</th>\n",
       "      <th>timestamp</th>\n",
       "      <th>event_data</th>\n",
       "      <th>installation_id</th>\n",
       "      <th>event_count</th>\n",
       "      <th>event_code</th>\n",
       "      <th>game_time</th>\n",
       "      <th>title</th>\n",
       "      <th>type</th>\n",
       "      <th>world</th>\n",
       "    </tr>\n",
       "  </thead>\n",
       "  <tbody>\n",
       "    <tr>\n",
       "      <th>0</th>\n",
       "      <td>27253bdc</td>\n",
       "      <td>45bb1e1b6b50c07b</td>\n",
       "      <td>2019-09-06T17:53:46.937Z</td>\n",
       "      <td>{\"event_code\": 2000, \"event_count\": 1}</td>\n",
       "      <td>0001e90f</td>\n",
       "      <td>1</td>\n",
       "      <td>2000</td>\n",
       "      <td>0</td>\n",
       "      <td>Welcome to Lost Lagoon!</td>\n",
       "      <td>Clip</td>\n",
       "      <td>NONE</td>\n",
       "    </tr>\n",
       "    <tr>\n",
       "      <th>1</th>\n",
       "      <td>27253bdc</td>\n",
       "      <td>17eeb7f223665f53</td>\n",
       "      <td>2019-09-06T17:54:17.519Z</td>\n",
       "      <td>{\"event_code\": 2000, \"event_count\": 1}</td>\n",
       "      <td>0001e90f</td>\n",
       "      <td>1</td>\n",
       "      <td>2000</td>\n",
       "      <td>0</td>\n",
       "      <td>Magma Peak - Level 1</td>\n",
       "      <td>Clip</td>\n",
       "      <td>MAGMAPEAK</td>\n",
       "    </tr>\n",
       "    <tr>\n",
       "      <th>2</th>\n",
       "      <td>77261ab5</td>\n",
       "      <td>0848ef14a8dc6892</td>\n",
       "      <td>2019-09-06T17:54:56.302Z</td>\n",
       "      <td>{\"version\":\"1.0\",\"event_count\":1,\"game_time\":0...</td>\n",
       "      <td>0001e90f</td>\n",
       "      <td>1</td>\n",
       "      <td>2000</td>\n",
       "      <td>0</td>\n",
       "      <td>Sandcastle Builder (Activity)</td>\n",
       "      <td>Activity</td>\n",
       "      <td>MAGMAPEAK</td>\n",
       "    </tr>\n",
       "    <tr>\n",
       "      <th>3</th>\n",
       "      <td>b2dba42b</td>\n",
       "      <td>0848ef14a8dc6892</td>\n",
       "      <td>2019-09-06T17:54:56.387Z</td>\n",
       "      <td>{\"description\":\"Let's build a sandcastle! Firs...</td>\n",
       "      <td>0001e90f</td>\n",
       "      <td>2</td>\n",
       "      <td>3010</td>\n",
       "      <td>53</td>\n",
       "      <td>Sandcastle Builder (Activity)</td>\n",
       "      <td>Activity</td>\n",
       "      <td>MAGMAPEAK</td>\n",
       "    </tr>\n",
       "    <tr>\n",
       "      <th>4</th>\n",
       "      <td>1bb5fbdb</td>\n",
       "      <td>0848ef14a8dc6892</td>\n",
       "      <td>2019-09-06T17:55:03.253Z</td>\n",
       "      <td>{\"description\":\"Let's build a sandcastle! Firs...</td>\n",
       "      <td>0001e90f</td>\n",
       "      <td>3</td>\n",
       "      <td>3110</td>\n",
       "      <td>6972</td>\n",
       "      <td>Sandcastle Builder (Activity)</td>\n",
       "      <td>Activity</td>\n",
       "      <td>MAGMAPEAK</td>\n",
       "    </tr>\n",
       "  </tbody>\n",
       "</table>\n",
       "</div>"
      ],
      "text/plain": [
       "   event_id      game_session                 timestamp  \\\n",
       "0  27253bdc  45bb1e1b6b50c07b  2019-09-06T17:53:46.937Z   \n",
       "1  27253bdc  17eeb7f223665f53  2019-09-06T17:54:17.519Z   \n",
       "2  77261ab5  0848ef14a8dc6892  2019-09-06T17:54:56.302Z   \n",
       "3  b2dba42b  0848ef14a8dc6892  2019-09-06T17:54:56.387Z   \n",
       "4  1bb5fbdb  0848ef14a8dc6892  2019-09-06T17:55:03.253Z   \n",
       "\n",
       "                                          event_data installation_id  \\\n",
       "0             {\"event_code\": 2000, \"event_count\": 1}        0001e90f   \n",
       "1             {\"event_code\": 2000, \"event_count\": 1}        0001e90f   \n",
       "2  {\"version\":\"1.0\",\"event_count\":1,\"game_time\":0...        0001e90f   \n",
       "3  {\"description\":\"Let's build a sandcastle! Firs...        0001e90f   \n",
       "4  {\"description\":\"Let's build a sandcastle! Firs...        0001e90f   \n",
       "\n",
       "   event_count  event_code  game_time                          title  \\\n",
       "0            1        2000          0        Welcome to Lost Lagoon!   \n",
       "1            1        2000          0           Magma Peak - Level 1   \n",
       "2            1        2000          0  Sandcastle Builder (Activity)   \n",
       "3            2        3010         53  Sandcastle Builder (Activity)   \n",
       "4            3        3110       6972  Sandcastle Builder (Activity)   \n",
       "\n",
       "       type      world  \n",
       "0      Clip       NONE  \n",
       "1      Clip  MAGMAPEAK  \n",
       "2  Activity  MAGMAPEAK  \n",
       "3  Activity  MAGMAPEAK  \n",
       "4  Activity  MAGMAPEAK  "
      ]
     },
     "execution_count": 4,
     "metadata": {},
     "output_type": "execute_result"
    }
   ],
   "source": [
    "trainX.head()"
   ]
  },
  {
   "cell_type": "code",
   "execution_count": 6,
   "metadata": {},
   "outputs": [],
   "source": [
    "traind = trainX['game_time'].values[1:] - trainX['game_time'].values[:-1]    #將game_time轉換成時間差\n",
    "traind = np.concatenate((np.zeros(1),traind),axis=0)                         #原先為累計時間                                               ## 或許直接增加一行更好 \n",
    "trainX['game_time_dif'] = traind/1000\n",
    "trainX['game_time_dif'] = trainX['game_time_dif'].map(lambda x : (x + abs(x)) / 2)\n",
    "del traind"
   ]
  },
  {
   "cell_type": "code",
   "execution_count": 5,
   "metadata": {},
   "outputs": [
    {
     "name": "stdout",
     "output_type": "stream",
     "text": [
      "Train shape : (11341042, 11)\n",
      "共有17000個ID\n",
      "['event_id', 'game_session', 'timestamp', 'event_data', 'installation_id', 'event_count', 'event_code', 'game_time', 'title', 'type', 'world']\n"
     ]
    }
   ],
   "source": [
    "shape = trainX.shape\n",
    "print(f'Train shape : {shape}')\n",
    "num_player = trainX['installation_id'].nunique()\n",
    "print(f'共有{num_player}個ID')\n",
    "columns_name = list(trainX.columns)\n",
    "print(columns_name)"
   ]
  },
  {
   "cell_type": "code",
   "execution_count": 40,
   "metadata": {},
   "outputs": [
    {
     "data": {
      "image/png": "[encoded data removed]",
      "text/plain": [
       "<Figure size 432x288 with 1 Axes>"
      ]
     },
     "metadata": {
      "needs_background": "light"
     },
     "output_type": "display_data"
    },
    {
     "data": {
      "image/png": "[encoded data removed]",
      "text/plain": [
       "<Figure size 432x288 with 1 Axes>"
      ]
     },
     "metadata": {
      "needs_background": "light"
     },
     "output_type": "display_data"
    }
   ],
   "source": [
    "mm = trainX.groupby(['installation_id', 'game_session'])['game_time'].max()\n",
    "mt = testX.groupby(['installation_id', 'game_session'])['game_time'].max()\n",
    "plt.plot(np.arange(mm.shape[0]), mm.values/1000)\n",
    "plt.ylabel('train max_time(s)')\n",
    "plt.show()\n",
    "plt.plot(np.arange(mt.shape[0]), mt.values/1000)\n",
    "plt.ylabel('test max_time(s)')\n",
    "plt.show()\n",
    "del mm, mt"
   ]
  },
  {
   "cell_type": "markdown",
   "metadata": {},
   "source": [
    "可以看到有幾項特別高的 甚至到100000秒以上 約為一天 表示手機開著就沒關啦 或許把超過三小時的刪掉會比較好(10800000秒)"
   ]
  },
  {
   "cell_type": "code",
   "execution_count": 8,
   "metadata": {},
   "outputs": [],
   "source": [
    "trainX['timestamp'] = pd.to_datetime(trainX['timestamp'])          #將時間型特徵拆開來\n",
    "trainX['date'] = trainX['timestamp'].dt.date\n",
    "trainX['hour'] = trainX['timestamp'].dt.hour\n",
    "trainX['weekday_name'] = trainX['timestamp'].dt.weekday_name\n",
    "trainX = trainX.drop(['timestamp'], axis=1)\n",
    "trainX['hour'] = trainX['hour']/24"
   ]
  },
  {
   "cell_type": "markdown",
   "metadata": {},
   "source": [
    "發現 id 為f1c21eda的玩家似乎有問題 遊玩次數遠大於其他玩家 將其刪掉"
   ]
  },
  {
   "cell_type": "code",
   "execution_count": 41,
   "metadata": {},
   "outputs": [],
   "source": [
    "trainX = trainX[trainX['installation_id'] != 'f1c21eda']"
   ]
  },
  {
   "cell_type": "markdown",
   "metadata": {},
   "source": [
    "可以合理推斷 如果玩越多天 對遊戲應該越熟練 則通關率會越高 所以可以將date做label encoder 數字越高通過可能越高"
   ]
  },
  {
   "cell_type": "code",
   "execution_count": 42,
   "metadata": {},
   "outputs": [],
   "source": [
    "from sklearn.preprocessing import LabelEncoder\n",
    "LE = LabelEncoder()\n",
    "aa = trainX.groupby('installation_id')['date'].apply(lambda x : LE.fit_transform(x))\n",
    "con = np.concatenate((aa[0],aa[1]))\n",
    "for i in range(aa.shape[0]-2):\n",
    "    con = np.concatenate((con,aa[i+2]))\n",
    "trainX['date'] = con    \n",
    "del con"
   ]
  },
  {
   "cell_type": "code",
   "execution_count": 5,
   "metadata": {},
   "outputs": [],
   "source": [
    "assess = ['Bird Measurer (Assessment)' , 'Cart Balancer (Assessment)', 'Cauldron Filler (Assessment)', 'Chest Sorter (Assessment)', 'Mushroom Sorter (Assessment)']\n",
    "num_ass = trainX[trainX['title'].apply(lambda x : x in assess)]\n",
    "nt = num_ass[(num_ass['event_code'] == 4100) | (num_ass['event_code'] == 4110)]['game_session'].unique()\n",
    "nl = train_label['game_session'].unique()\n",
    "nt = list(nt)\n",
    "nl = list(nl)\n",
    "set(nt) - set(nl)"
   ]
  },
  {
   "cell_type": "code",
   "execution_count": 8,
   "metadata": {},
   "outputs": [],
   "source": [
    "trainX = trainX[trainX['game_session'].apply(lambda x : x in train_label['game_session'].unique())]   #把沒有做過測驗的刪掉"
   ]
  },
  {
   "cell_type": "code",
   "execution_count": 11,
   "metadata": {},
   "outputs": [],
   "source": [
    "trainX.to_csv('trainX2.csv', index = False)"
   ]
  },
  {
   "cell_type": "code",
   "execution_count": 253,
   "metadata": {},
   "outputs": [],
   "source": [
    "trainX = pd.read_csv('trainX2.csv')"
   ]
  },
  {
   "cell_type": "code",
   "execution_count": null,
   "metadata": {},
   "outputs": [],
   "source": [
    "trainX = trainX[trainX['game_time']/1000 < 10000]"
   ]
  },
  {
   "cell_type": "markdown",
   "metadata": {},
   "source": [
    "發現有些event_count順序是錯的  ex:'c1fd206b608ef6ac'"
   ]
  },
  {
   "cell_type": "code",
   "execution_count": 280,
   "metadata": {},
   "outputs": [],
   "source": [
    "cor = trainX.groupby('game_session').apply(lambda x : x.sort_values(by = ['event_count']))\n",
    "zz = cor.droplevel(0)\n",
    "zz.to_csv('trainXX.csv', index=None)"
   ]
  },
  {
   "cell_type": "code",
   "execution_count": 3,
   "metadata": {},
   "outputs": [],
   "source": [
    "trainX = pd.read_csv('trainXX.csv')    #修復完順序的"
   ]
  },
  {
   "cell_type": "code",
   "execution_count": 10,
   "metadata": {},
   "outputs": [
    {
     "data": {
      "text/plain": [
       "count    865162.000000\n",
       "mean          1.448206\n",
       "std          53.448084\n",
       "min           0.000000\n",
       "25%           0.099000\n",
       "50%           0.628000\n",
       "75%           1.253000\n",
       "max       26414.524000\n",
       "Name: game_time_dif, dtype: float64"
      ]
     },
     "execution_count": 10,
     "metadata": {},
     "output_type": "execute_result"
    }
   ],
   "source": [
    "trainX['game_time_dif'].describe()      #平均每次事件遊玩時間為1.多秒 std為5X"
   ]
  },
  {
   "cell_type": "code",
   "execution_count": 58,
   "metadata": {},
   "outputs": [],
   "source": [
    "trainX = pd.get_dummies(trainX, columns = ['event_id', 'event_code'])"
   ]
  },
  {
   "cell_type": "code",
   "execution_count": 61,
   "metadata": {},
   "outputs": [],
   "source": [
    "trainX = trainX.drop(['event_data'], axis=1)"
   ]
  },
  {
   "cell_type": "code",
   "execution_count": 23,
   "metadata": {},
   "outputs": [],
   "source": [
    "acc1 = train_label['game_session'].unique()\n",
    "acc2 = train_label['accuracy'].values\n",
    "game_acc = []\n",
    "for i in range(len(acc1)):\n",
    "    game_acc.append((acc1[i],acc2[i]))\n",
    "game_acc = dict(game_acc)    \n",
    "trainX['grade'] = trainX['game_session'].map(lambda x : game_acc.get(x))"
   ]
  },
  {
   "cell_type": "code",
   "execution_count": 130,
   "metadata": {},
   "outputs": [],
   "source": [
    "title_mean = train_label.groupby('title').apply(lambda x : x.mean())\n",
    "title_acc = []\n",
    "for i in title_mean.index:\n",
    "    title_acc.append((i,title_mean.loc[i]['accuracy']))\n",
    "title_acc = dict(title_acc)  \n",
    "trainX['grade_title'] = trainX['title'].map(lambda x : title_acc.get(x))"
   ]
  },
  {
   "cell_type": "code",
   "execution_count": 99,
   "metadata": {},
   "outputs": [],
   "source": [
    "acc_group = train_label['accuracy_group'].values\n",
    "trainy = []\n",
    "for i in range(len(acc1)):\n",
    "    trainy.append((acc1[i],acc_group[i]))\n",
    "trainy = dict(trainy)    \n",
    "#trainX['label'] = trainX['game_session'].map(lambda x : trainy.get(x))\n",
    "#trainX = trainX.drop(['label'], axis=1)"
   ]
  },
  {
   "cell_type": "markdown",
   "metadata": {},
   "source": [
    "對type world title 做one-hot\n",
    "\n",
    "再把星期幾分為假日跟平日"
   ]
  },
  {
   "cell_type": "code",
   "execution_count": null,
   "metadata": {},
   "outputs": [],
   "source": [
    "trainX = pd.get_dummies(trainX, columns= ['type', 'world', 'title'])\n",
    "weekend = ['Statuday', 'Sunday']\n",
    "trainX['weekday_name'] = trainX['weekday_name'].map(lambda x : int(x in weekend))"
   ]
  },
  {
   "cell_type": "code",
   "execution_count": 140,
   "metadata": {},
   "outputs": [],
   "source": [
    "trainX = trainX[trainX['installation_id']!= 'f1c21eda']        #遊玩次數異常\n",
    "trainX = trainX[trainX['installation_id'] != '08987c08']\n",
    "trainX = trainX.drop(['game_time'],axis=1)"
   ]
  },
  {
   "cell_type": "code",
   "execution_count": 164,
   "metadata": {},
   "outputs": [],
   "source": [
    "ind1 = (trainX.groupby('installation_id')['game_session'].nunique()==1)\n",
    "ind2 = []\n",
    "for i in ind1.index:\n",
    "    if ind1.loc[i] == True:\n",
    "        ind2.append(i)\n",
    "trainX = trainX[trainX['installation_id'].map(lambda x : x not in ind2)]        "
   ]
  },
  {
   "cell_type": "code",
   "execution_count": 144,
   "metadata": {},
   "outputs": [],
   "source": [
    "count_new = trainX.groupby('game_session')['event_count'].apply(lambda x : (x-x.min())/(x.max() - x.min()))\n",
    "trainX['event_count'] = count_new"
   ]
  },
  {
   "cell_type": "code",
   "execution_count": 168,
   "metadata": {},
   "outputs": [],
   "source": [
    "dif_new = trainX.groupby('game_session')['game_time_dif'].apply(lambda x : (x-x.min())/(x.max() - x.min()))\n",
    "trainX['game_time_dif'] = dif_new"
   ]
  },
  {
   "cell_type": "code",
   "execution_count": 177,
   "metadata": {},
   "outputs": [],
   "source": [
    "trainX.to_csv('trainXXX.csv',index=False)"
   ]
  },
  {
   "cell_type": "code",
   "execution_count": 3,
   "metadata": {},
   "outputs": [],
   "source": [
    "trainX = pd.read_csv('trainXXX.csv')"
   ]
  },
  {
   "cell_type": "code",
   "execution_count": 4,
   "metadata": {},
   "outputs": [
    {
     "data": {
      "text/html": [
       "<div>\n",
       "<style scoped>\n",
       "    .dataframe tbody tr th:only-of-type {\n",
       "        vertical-align: middle;\n",
       "    }\n",
       "\n",
       "    .dataframe tbody tr th {\n",
       "        vertical-align: top;\n",
       "    }\n",
       "\n",
       "    .dataframe thead th {\n",
       "        text-align: right;\n",
       "    }\n",
       "</style>\n",
       "<table border=\"1\" class=\"dataframe\">\n",
       "  <thead>\n",
       "    <tr style=\"text-align: right;\">\n",
       "      <th></th>\n",
       "      <th>game_session</th>\n",
       "      <th>installation_id</th>\n",
       "      <th>event_count</th>\n",
       "      <th>game_time_dif</th>\n",
       "      <th>date</th>\n",
       "      <th>hour</th>\n",
       "      <th>weekday_name</th>\n",
       "      <th>type_Assessment</th>\n",
       "      <th>world_CRYSTALCAVES</th>\n",
       "      <th>world_MAGMAPEAK</th>\n",
       "      <th>...</th>\n",
       "      <th>event_code_4030</th>\n",
       "      <th>event_code_4035</th>\n",
       "      <th>event_code_4040</th>\n",
       "      <th>event_code_4070</th>\n",
       "      <th>event_code_4080</th>\n",
       "      <th>event_code_4090</th>\n",
       "      <th>event_code_4100</th>\n",
       "      <th>event_code_4110</th>\n",
       "      <th>grade</th>\n",
       "      <th>grade_title</th>\n",
       "    </tr>\n",
       "  </thead>\n",
       "  <tbody>\n",
       "    <tr>\n",
       "      <th>0</th>\n",
       "      <td>00097cda27afb726</td>\n",
       "      <td>01bdd720</td>\n",
       "      <td>0.000000</td>\n",
       "      <td>0.000000</td>\n",
       "      <td>0</td>\n",
       "      <td>0.666667</td>\n",
       "      <td>1</td>\n",
       "      <td>1</td>\n",
       "      <td>0</td>\n",
       "      <td>0</td>\n",
       "      <td>...</td>\n",
       "      <td>0</td>\n",
       "      <td>0</td>\n",
       "      <td>0</td>\n",
       "      <td>0</td>\n",
       "      <td>0</td>\n",
       "      <td>0</td>\n",
       "      <td>0</td>\n",
       "      <td>0</td>\n",
       "      <td>1.0</td>\n",
       "      <td>0.711042</td>\n",
       "    </tr>\n",
       "    <tr>\n",
       "      <th>1</th>\n",
       "      <td>00097cda27afb726</td>\n",
       "      <td>01bdd720</td>\n",
       "      <td>0.028571</td>\n",
       "      <td>0.000000</td>\n",
       "      <td>0</td>\n",
       "      <td>0.666667</td>\n",
       "      <td>1</td>\n",
       "      <td>1</td>\n",
       "      <td>0</td>\n",
       "      <td>0</td>\n",
       "      <td>...</td>\n",
       "      <td>0</td>\n",
       "      <td>0</td>\n",
       "      <td>0</td>\n",
       "      <td>0</td>\n",
       "      <td>0</td>\n",
       "      <td>0</td>\n",
       "      <td>0</td>\n",
       "      <td>0</td>\n",
       "      <td>1.0</td>\n",
       "      <td>0.711042</td>\n",
       "    </tr>\n",
       "    <tr>\n",
       "      <th>2</th>\n",
       "      <td>00097cda27afb726</td>\n",
       "      <td>01bdd720</td>\n",
       "      <td>0.057143</td>\n",
       "      <td>0.000000</td>\n",
       "      <td>0</td>\n",
       "      <td>0.666667</td>\n",
       "      <td>1</td>\n",
       "      <td>1</td>\n",
       "      <td>0</td>\n",
       "      <td>0</td>\n",
       "      <td>...</td>\n",
       "      <td>0</td>\n",
       "      <td>0</td>\n",
       "      <td>0</td>\n",
       "      <td>0</td>\n",
       "      <td>0</td>\n",
       "      <td>0</td>\n",
       "      <td>0</td>\n",
       "      <td>0</td>\n",
       "      <td>1.0</td>\n",
       "      <td>0.711042</td>\n",
       "    </tr>\n",
       "    <tr>\n",
       "      <th>3</th>\n",
       "      <td>00097cda27afb726</td>\n",
       "      <td>01bdd720</td>\n",
       "      <td>0.085714</td>\n",
       "      <td>0.938571</td>\n",
       "      <td>0</td>\n",
       "      <td>0.666667</td>\n",
       "      <td>1</td>\n",
       "      <td>1</td>\n",
       "      <td>0</td>\n",
       "      <td>0</td>\n",
       "      <td>...</td>\n",
       "      <td>0</td>\n",
       "      <td>0</td>\n",
       "      <td>0</td>\n",
       "      <td>1</td>\n",
       "      <td>0</td>\n",
       "      <td>0</td>\n",
       "      <td>0</td>\n",
       "      <td>0</td>\n",
       "      <td>1.0</td>\n",
       "      <td>0.711042</td>\n",
       "    </tr>\n",
       "    <tr>\n",
       "      <th>4</th>\n",
       "      <td>00097cda27afb726</td>\n",
       "      <td>01bdd720</td>\n",
       "      <td>0.114286</td>\n",
       "      <td>0.000000</td>\n",
       "      <td>0</td>\n",
       "      <td>0.666667</td>\n",
       "      <td>1</td>\n",
       "      <td>1</td>\n",
       "      <td>0</td>\n",
       "      <td>0</td>\n",
       "      <td>...</td>\n",
       "      <td>0</td>\n",
       "      <td>0</td>\n",
       "      <td>0</td>\n",
       "      <td>0</td>\n",
       "      <td>0</td>\n",
       "      <td>0</td>\n",
       "      <td>0</td>\n",
       "      <td>0</td>\n",
       "      <td>1.0</td>\n",
       "      <td>0.711042</td>\n",
       "    </tr>\n",
       "  </tbody>\n",
       "</table>\n",
       "<p>5 rows × 137 columns</p>\n",
       "</div>"
      ],
      "text/plain": [
       "       game_session installation_id  event_count  game_time_dif  date  \\\n",
       "0  00097cda27afb726        01bdd720     0.000000       0.000000     0   \n",
       "1  00097cda27afb726        01bdd720     0.028571       0.000000     0   \n",
       "2  00097cda27afb726        01bdd720     0.057143       0.000000     0   \n",
       "3  00097cda27afb726        01bdd720     0.085714       0.938571     0   \n",
       "4  00097cda27afb726        01bdd720     0.114286       0.000000     0   \n",
       "\n",
       "       hour  weekday_name  type_Assessment  world_CRYSTALCAVES  \\\n",
       "0  0.666667             1                1                   0   \n",
       "1  0.666667             1                1                   0   \n",
       "2  0.666667             1                1                   0   \n",
       "3  0.666667             1                1                   0   \n",
       "4  0.666667             1                1                   0   \n",
       "\n",
       "   world_MAGMAPEAK  ...  event_code_4030  event_code_4035  event_code_4040  \\\n",
       "0                0  ...                0                0                0   \n",
       "1                0  ...                0                0                0   \n",
       "2                0  ...                0                0                0   \n",
       "3                0  ...                0                0                0   \n",
       "4                0  ...                0                0                0   \n",
       "\n",
       "   event_code_4070  event_code_4080  event_code_4090  event_code_4100  \\\n",
       "0                0                0                0                0   \n",
       "1                0                0                0                0   \n",
       "2                0                0                0                0   \n",
       "3                1                0                0                0   \n",
       "4                0                0                0                0   \n",
       "\n",
       "   event_code_4110  grade  grade_title  \n",
       "0                0    1.0     0.711042  \n",
       "1                0    1.0     0.711042  \n",
       "2                0    1.0     0.711042  \n",
       "3                0    1.0     0.711042  \n",
       "4                0    1.0     0.711042  \n",
       "\n",
       "[5 rows x 137 columns]"
      ]
     },
     "execution_count": 4,
     "metadata": {},
     "output_type": "execute_result"
    }
   ],
   "source": [
    "trainX.head()"
   ]
  },
  {
   "cell_type": "code",
   "execution_count": 24,
   "metadata": {},
   "outputs": [],
   "source": [
    "def game_length(x):\n",
    "    length = trainX[trainX['game_session'] == x].shape[0]\n",
    "    return length\n",
    "acc_mean = trainX.groupby('installation_id')['game_session'].apply(lambda x : x.iloc[:-game_length(x.iloc[-1])].map(lambda x : game_acc.get(x)))"
   ]
  },
  {
   "cell_type": "code",
   "execution_count": 49,
   "metadata": {},
   "outputs": [],
   "source": [
    "acc_mean_group = acc_mean.mean(level = 'installation_id')\n",
    "last_game = trainX.groupby('installation_id')['game_session'].apply(lambda x : x.iloc[-1])"
   ]
  },
  {
   "cell_type": "code",
   "execution_count": 92,
   "metadata": {},
   "outputs": [],
   "source": [
    "train = trainX[trainX['game_session'] == last_game[0]].iloc[0]\n",
    "for i in range(last_game.shape[0]-1):\n",
    "    train2 = trainX[trainX['game_session'] == last_game[i+1]].iloc[0]\n",
    "    train = pd.concat([train,train2],axis=1)\n",
    "train = train.T    "
   ]
  },
  {
   "cell_type": "code",
   "execution_count": 97,
   "metadata": {},
   "outputs": [],
   "source": [
    "train = train.drop(['grade'], axis=1)\n",
    "train['grade_mean'] = train['installation_id'].map(lambda x : acc_mean_group[x])\n",
    "train['label'] = train['game_session'].map(lambda x : trainy.get(x))"
   ]
  },
  {
   "cell_type": "code",
   "execution_count": 104,
   "metadata": {},
   "outputs": [],
   "source": [
    "ids = train['installation_id']\n",
    "game_se = train['game_session']\n",
    "labels = train['label']\n",
    "train = train.drop(['installation_id', 'game_session', 'label'],axis=1)"
   ]
  },
  {
   "cell_type": "code",
   "execution_count": 108,
   "metadata": {},
   "outputs": [
    {
     "data": {
      "text/plain": [
       "GradientBoostingClassifier(criterion='friedman_mse', init=None,\n",
       "              learning_rate=0.1, loss='deviance', max_depth=3,\n",
       "              max_features=None, max_leaf_nodes=None,\n",
       "              min_impurity_decrease=0.0, min_impurity_split=None,\n",
       "              min_samples_leaf=1, min_samples_split=2,\n",
       "              min_weight_fraction_leaf=0.0, n_estimators=100,\n",
       "              n_iter_no_change=None, presort='auto', random_state=None,\n",
       "              subsample=1.0, tol=0.0001, validation_fraction=0.1,\n",
       "              verbose=0, warm_start=False)"
      ]
     },
     "execution_count": 108,
     "metadata": {},
     "output_type": "execute_result"
    }
   ],
   "source": [
    "from sklearn.ensemble import GradientBoostingClassifier\n",
    "gbc = GradientBoostingClassifier()\n",
    "gbc.fit(train,labels)"
   ]
  },
  {
   "cell_type": "code",
   "execution_count": 217,
   "metadata": {},
   "outputs": [],
   "source": [
    "testX = pd.read_csv('./data/test.csv')"
   ]
  },
  {
   "cell_type": "code",
   "execution_count": 218,
   "metadata": {},
   "outputs": [],
   "source": [
    "traind = testX['game_time'].values[1:] - testX['game_time'].values[:-1]    #將game_time轉換成時間差\n",
    "traind = np.concatenate((np.zeros(1),traind),axis=0)                         #原先為累計時間                                               ## 或許直接增加一行更好 \n",
    "testX['game_time_dif'] = traind/1000\n",
    "testX['game_time_dif'] = testX['game_time_dif'].map(lambda x : (x + abs(x)) / 2)\n",
    "del traind"
   ]
  },
  {
   "cell_type": "code",
   "execution_count": 219,
   "metadata": {},
   "outputs": [],
   "source": [
    "testX['timestamp'] = pd.to_datetime(testX['timestamp'])          #將時間型特徵拆開來\n",
    "testX['date'] = testX['timestamp'].dt.date\n",
    "testX['hour'] = testX['timestamp'].dt.hour\n",
    "testX['weekday_name'] = testX['timestamp'].dt.weekday_name\n",
    "testX = testX.drop(['timestamp'], axis=1)\n",
    "testX['hour'] = testX['hour']/24"
   ]
  },
  {
   "cell_type": "code",
   "execution_count": 220,
   "metadata": {},
   "outputs": [],
   "source": [
    "from sklearn.preprocessing import LabelEncoder\n",
    "LE = LabelEncoder()\n",
    "aa = testX.groupby('installation_id')['date'].apply(lambda x : LE.fit_transform(x))\n",
    "con = np.concatenate((aa[0],aa[1]))\n",
    "for i in range(aa.shape[0]-2):\n",
    "    con = np.concatenate((con,aa[i+2]))\n",
    "testX['date'] = con    \n",
    "del con"
   ]
  },
  {
   "cell_type": "code",
   "execution_count": 221,
   "metadata": {},
   "outputs": [],
   "source": [
    "testX['title_acc'] = testX['title'].map(lambda x : title_acc.get(x))"
   ]
  },
  {
   "cell_type": "code",
   "execution_count": 222,
   "metadata": {},
   "outputs": [],
   "source": [
    "testX['TF'] = testX['event_data'].map(lambda x : json.loads(x).get('correct'))"
   ]
  },
  {
   "cell_type": "code",
   "execution_count": 224,
   "metadata": {},
   "outputs": [],
   "source": [
    "def TFcon(x):\n",
    "    f = x == False\n",
    "    t = x == True\n",
    "    acc = t.sum() / (f.sum() + t.sum())\n",
    "    return acc\n",
    "acc_test = testX.groupby('game_session')['TF'].apply(lambda x : TFcon(x))\n",
    "acc_test = acc_test.dropna()"
   ]
  },
  {
   "cell_type": "code",
   "execution_count": 225,
   "metadata": {},
   "outputs": [],
   "source": [
    "def game_length(x):\n",
    "    length = testX[testX['game_session'] == x].shape[0]\n",
    "    return length\n",
    "acc_meant = testX.groupby('installation_id')['game_session'].apply(lambda x : x.iloc[:-game_length(x.iloc[-1])].map(lambda x : acc_test.get(x)))\n",
    "acc_meant_group = acc_meant.fillna(0).mean(level = 'installation_id')"
   ]
  },
  {
   "cell_type": "code",
   "execution_count": 226,
   "metadata": {},
   "outputs": [],
   "source": [
    "def acc_mean_con(x):\n",
    "    try:\n",
    "        return acc_meant_group[x]\n",
    "    except:\n",
    "        return 0\n",
    "testX['grade_mean'] = testX['installation_id'].map(lambda x : acc_mean_con(x))"
   ]
  },
  {
   "cell_type": "code",
   "execution_count": 191,
   "metadata": {},
   "outputs": [],
   "source": [
    "dif_new = testX.groupby('game_session')['game_time_dif'].apply(lambda x : (x-x.min())/(x.max() - x.min()))\n",
    "testX['game_time_dif'] = dif_new"
   ]
  },
  {
   "cell_type": "code",
   "execution_count": 227,
   "metadata": {},
   "outputs": [],
   "source": [
    "last_game_test = testX.groupby('installation_id')['game_session'].apply(lambda x : x.iloc[-1])"
   ]
  },
  {
   "cell_type": "code",
   "execution_count": 228,
   "metadata": {},
   "outputs": [],
   "source": [
    "testX = pd.get_dummies(testX, columns= ['type', 'world', 'title'])\n",
    "weekend = ['Statuday', 'Sunday']\n",
    "testX['weekday_name'] = testX['weekday_name'].map(lambda x : int(x in weekend))"
   ]
  },
  {
   "cell_type": "code",
   "execution_count": 230,
   "metadata": {},
   "outputs": [],
   "source": [
    "testX = testX.drop(['event_data','game_time'], axis=1)"
   ]
  },
  {
   "cell_type": "code",
   "execution_count": 212,
   "metadata": {},
   "outputs": [],
   "source": [
    "testX = pd.get_dummies(testX, columns = ['event_id', 'event_code'])\n",
    "testX = testX.drop(['event_data'],axis=1)"
   ]
  },
  {
   "cell_type": "code",
   "execution_count": 252,
   "metadata": {},
   "outputs": [],
   "source": [
    "test = testX[testX['game_session'].map(lambda x : x in last_game_test.values)]"
   ]
  },
  {
   "cell_type": "code",
   "execution_count": 258,
   "metadata": {},
   "outputs": [],
   "source": [
    "test = pd.get_dummies(test, columns = ['event_code','event_id'])"
   ]
  },
  {
   "cell_type": "code",
   "execution_count": 274,
   "metadata": {},
   "outputs": [],
   "source": [
    "for i in test.columns:\n",
    "    if test[i].nunique() == 1:\n",
    "        test = test.drop([i], axis=1)"
   ]
  },
  {
   "cell_type": "code",
   "execution_count": 283,
   "metadata": {},
   "outputs": [
    {
     "data": {
      "text/plain": [
       "GradientBoostingClassifier(criterion='friedman_mse', init=None,\n",
       "              learning_rate=0.1, loss='deviance', max_depth=3,\n",
       "              max_features=None, max_leaf_nodes=None,\n",
       "              min_impurity_decrease=0.0, min_impurity_split=None,\n",
       "              min_samples_leaf=1, min_samples_split=2,\n",
       "              min_weight_fraction_leaf=0.0, n_estimators=100,\n",
       "              n_iter_no_change=None, presort='auto', random_state=None,\n",
       "              subsample=1.0, tol=0.0001, validation_fraction=0.1,\n",
       "              verbose=0, warm_start=False)"
      ]
     },
     "execution_count": 283,
     "metadata": {},
     "output_type": "execute_result"
    }
   ],
   "source": [
    "from sklearn.ensemble import GradientBoostingClassifier\n",
    "gbc = GradientBoostingClassifier()\n",
    "gbc.fit(train,labels)"
   ]
  },
  {
   "cell_type": "code",
   "execution_count": 284,
   "metadata": {},
   "outputs": [],
   "source": [
    "pre = gbc.predict(test)"
   ]
  },
  {
   "cell_type": "code",
   "execution_count": 292,
   "metadata": {},
   "outputs": [],
   "source": [
    "predict = pd.DataFrame()\n",
    "predict['installation_id'] = ids_test\n",
    "predict['accuracy_group'] = pre"
   ]
  },
  {
   "cell_type": "code",
   "execution_count": 294,
   "metadata": {},
   "outputs": [],
   "source": [
    "predict.to_csv('predict.csv', index = None)"
   ]
  },
  {
   "cell_type": "code",
   "execution_count": null,
   "metadata": {},
   "outputs": [],
   "source": []
  }
 ],
 "metadata": {
  "kernelspec": {
   "display_name": "Python 3",
   "language": "python",
   "name": "python3"
  },
  "language_info": {
   "codemirror_mode": {
    "name": "ipython",
    "version": 3
   },
   "file_extension": ".py",
   "mimetype": "text/x-python",
   "name": "python",
   "nbconvert_exporter": "python",
   "pygments_lexer": "ipython3",
   "version": "3.7.3"
  }
 },
 "nbformat": 4,
 "nbformat_minor": 2
}
