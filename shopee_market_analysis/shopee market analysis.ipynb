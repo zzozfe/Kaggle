{
 "cells": [
  {
   "cell_type": "code",
   "execution_count": 72,
   "metadata": {},
   "outputs": [],
   "source": [
    "import numpy as np\n",
    "import pandas as pd\n",
    "import os\n",
    "from statsmodels.stats.weightstats import ztest\n",
    "from scipy.stats import ttest_1samp\n",
    "import matplotlib.pyplot as plt\n",
    "import seaborn as sns\n",
    "from sklearn.preprocessing import LabelEncoder\n",
    "from sklearn.preprocessing import OneHotEncoder\n",
    "from sklearn.ensemble import GradientBoostingClassifier"
   ]
  },
  {
   "cell_type": "code",
   "execution_count": 2,
   "metadata": {},
   "outputs": [
    {
     "data": {
      "text/plain": [
       "['.ipynb_checkpoints',\n",
       " 'sample_submission_0_1.csv',\n",
       " 'shopee market analysis.ipynb',\n",
       " 'student-shopee-code-league-marketing-analytics.zip',\n",
       " 'test.csv',\n",
       " 'train.csv',\n",
       " 'users.csv']"
      ]
     },
     "execution_count": 2,
     "metadata": {},
     "output_type": "execute_result"
    }
   ],
   "source": [
    "path = os.listdir('./')\n",
    "path"
   ]
  },
  {
   "cell_type": "code",
   "execution_count": 126,
   "metadata": {},
   "outputs": [],
   "source": [
    "train = pd.read_csv('train.csv')\n",
    "test = pd.read_csv('test.csv')\n",
    "users = pd.read_csv('users.csv')\n",
    "sample = pd.read_csv('sample_submission_0_1.csv')"
   ]
  },
  {
   "cell_type": "code",
   "execution_count": 127,
   "metadata": {},
   "outputs": [],
   "source": [
    "#將users的資料加入資料集\n",
    "train = train.join(users, on = 'user_id', rsuffix = '_').drop(['user_id_'], axis = 1)\n",
    "test = test.join(users, on = 'user_id', rsuffix = '_').drop(['user_id_'], axis = 1)\n",
    "\n",
    "#合併train和test為資料集\n",
    "data_set = pd.concat([train.drop(['open_flag'], axis = 1), test]) "
   ]
  },
  {
   "cell_type": "markdown",
   "metadata": {},
   "source": [
    "data_set數量比users的資料還多, 代表data_set中有相同的用戶收到複數信件, 相同的用戶應有相同行為"
   ]
  },
  {
   "cell_type": "code",
   "execution_count": 126,
   "metadata": {},
   "outputs": [
    {
     "name": "stdout",
     "output_type": "stream",
     "text": [
      "train's shape :  (73539, 23)\n",
      "test's shape :  (55970, 22)\n",
      "users' shape :  (127886, 6)\n",
      "data_set's shape :  (129509, 22)\n",
      "open_ratio :  [0.84421871 0.15578129]\n"
     ]
    }
   ],
   "source": [
    "print('train\\'s shape : ',train.shape)\n",
    "print('test\\'s shape : ',test.shape)\n",
    "print('users\\' shape : ', users.shape)\n",
    "print('data_set\\'s shape : ',data_set.shape)\n",
    "print('open_ratio : ', train['open_flag'].value_counts(normalize = True).values)"
   ]
  },
  {
   "cell_type": "code",
   "execution_count": 112,
   "metadata": {},
   "outputs": [
    {
     "data": {
      "text/html": [
       "<div>\n",
       "<style scoped>\n",
       "    .dataframe tbody tr th:only-of-type {\n",
       "        vertical-align: middle;\n",
       "    }\n",
       "\n",
       "    .dataframe tbody tr th {\n",
       "        vertical-align: top;\n",
       "    }\n",
       "\n",
       "    .dataframe thead th {\n",
       "        text-align: right;\n",
       "    }\n",
       "</style>\n",
       "<table border=\"1\" class=\"dataframe\">\n",
       "  <thead>\n",
       "    <tr style=\"text-align: right;\">\n",
       "      <th></th>\n",
       "      <th>country_code</th>\n",
       "      <th>grass_date</th>\n",
       "      <th>user_id</th>\n",
       "      <th>subject_line_length</th>\n",
       "      <th>last_open_day</th>\n",
       "      <th>last_login_day</th>\n",
       "      <th>last_checkout_day</th>\n",
       "      <th>open_count_last_10_days</th>\n",
       "      <th>open_count_last_30_days</th>\n",
       "      <th>open_count_last_60_days</th>\n",
       "      <th>...</th>\n",
       "      <th>checkout_count_last_10_days</th>\n",
       "      <th>checkout_count_last_30_days</th>\n",
       "      <th>checkout_count_last_60_days</th>\n",
       "      <th>open_flag</th>\n",
       "      <th>row_id</th>\n",
       "      <th>attr_1</th>\n",
       "      <th>attr_2</th>\n",
       "      <th>attr_3</th>\n",
       "      <th>age</th>\n",
       "      <th>domain</th>\n",
       "    </tr>\n",
       "  </thead>\n",
       "  <tbody>\n",
       "    <tr>\n",
       "      <th>0</th>\n",
       "      <td>4</td>\n",
       "      <td>2019-07-16 00:00:00+08:00</td>\n",
       "      <td>43</td>\n",
       "      <td>44</td>\n",
       "      <td>19</td>\n",
       "      <td>6</td>\n",
       "      <td>18</td>\n",
       "      <td>0</td>\n",
       "      <td>2</td>\n",
       "      <td>4</td>\n",
       "      <td>...</td>\n",
       "      <td>0</td>\n",
       "      <td>5</td>\n",
       "      <td>10</td>\n",
       "      <td>0</td>\n",
       "      <td>0</td>\n",
       "      <td>1.0</td>\n",
       "      <td>1.0</td>\n",
       "      <td>2.0</td>\n",
       "      <td>47.0</td>\n",
       "      <td>@gmail.com</td>\n",
       "    </tr>\n",
       "    <tr>\n",
       "      <th>1</th>\n",
       "      <td>4</td>\n",
       "      <td>2019-07-16 00:00:00+08:00</td>\n",
       "      <td>102</td>\n",
       "      <td>44</td>\n",
       "      <td>9</td>\n",
       "      <td>4</td>\n",
       "      <td>8</td>\n",
       "      <td>2</td>\n",
       "      <td>9</td>\n",
       "      <td>17</td>\n",
       "      <td>...</td>\n",
       "      <td>1</td>\n",
       "      <td>1</td>\n",
       "      <td>4</td>\n",
       "      <td>1</td>\n",
       "      <td>1</td>\n",
       "      <td>1.0</td>\n",
       "      <td>1.0</td>\n",
       "      <td>2.0</td>\n",
       "      <td>25.0</td>\n",
       "      <td>@hotmail.com</td>\n",
       "    </tr>\n",
       "    <tr>\n",
       "      <th>2</th>\n",
       "      <td>6</td>\n",
       "      <td>2019-07-16 00:00:00+08:00</td>\n",
       "      <td>177</td>\n",
       "      <td>49</td>\n",
       "      <td>14</td>\n",
       "      <td>5</td>\n",
       "      <td>5</td>\n",
       "      <td>0</td>\n",
       "      <td>4</td>\n",
       "      <td>12</td>\n",
       "      <td>...</td>\n",
       "      <td>5</td>\n",
       "      <td>19</td>\n",
       "      <td>27</td>\n",
       "      <td>0</td>\n",
       "      <td>2</td>\n",
       "      <td>NaN</td>\n",
       "      <td>1.0</td>\n",
       "      <td>0.0</td>\n",
       "      <td>NaN</td>\n",
       "      <td>@yahoo.com</td>\n",
       "    </tr>\n",
       "    <tr>\n",
       "      <th>3</th>\n",
       "      <td>1</td>\n",
       "      <td>2019-07-16 00:00:00+08:00</td>\n",
       "      <td>184</td>\n",
       "      <td>49</td>\n",
       "      <td>49</td>\n",
       "      <td>9</td>\n",
       "      <td>53</td>\n",
       "      <td>0</td>\n",
       "      <td>0</td>\n",
       "      <td>1</td>\n",
       "      <td>...</td>\n",
       "      <td>1</td>\n",
       "      <td>3</td>\n",
       "      <td>6</td>\n",
       "      <td>0</td>\n",
       "      <td>3</td>\n",
       "      <td>1.0</td>\n",
       "      <td>1.0</td>\n",
       "      <td>2.0</td>\n",
       "      <td>24.0</td>\n",
       "      <td>@yahoo.com</td>\n",
       "    </tr>\n",
       "    <tr>\n",
       "      <th>4</th>\n",
       "      <td>6</td>\n",
       "      <td>2019-07-16 00:00:00+08:00</td>\n",
       "      <td>221</td>\n",
       "      <td>49</td>\n",
       "      <td>227</td>\n",
       "      <td>6</td>\n",
       "      <td>221</td>\n",
       "      <td>0</td>\n",
       "      <td>0</td>\n",
       "      <td>0</td>\n",
       "      <td>...</td>\n",
       "      <td>0</td>\n",
       "      <td>0</td>\n",
       "      <td>0</td>\n",
       "      <td>0</td>\n",
       "      <td>4</td>\n",
       "      <td>NaN</td>\n",
       "      <td>1.0</td>\n",
       "      <td>0.0</td>\n",
       "      <td>NaN</td>\n",
       "      <td>@hotmail.com</td>\n",
       "    </tr>\n",
       "  </tbody>\n",
       "</table>\n",
       "<p>5 rows × 23 columns</p>\n",
       "</div>"
      ],
      "text/plain": [
       "   country_code                 grass_date  user_id  subject_line_length  \\\n",
       "0             4  2019-07-16 00:00:00+08:00       43                   44   \n",
       "1             4  2019-07-16 00:00:00+08:00      102                   44   \n",
       "2             6  2019-07-16 00:00:00+08:00      177                   49   \n",
       "3             1  2019-07-16 00:00:00+08:00      184                   49   \n",
       "4             6  2019-07-16 00:00:00+08:00      221                   49   \n",
       "\n",
       "  last_open_day last_login_day last_checkout_day  open_count_last_10_days  \\\n",
       "0            19              6                18                        0   \n",
       "1             9              4                 8                        2   \n",
       "2            14              5                 5                        0   \n",
       "3            49              9                53                        0   \n",
       "4           227              6               221                        0   \n",
       "\n",
       "   open_count_last_30_days  open_count_last_60_days  ...  \\\n",
       "0                        2                        4  ...   \n",
       "1                        9                       17  ...   \n",
       "2                        4                       12  ...   \n",
       "3                        0                        1  ...   \n",
       "4                        0                        0  ...   \n",
       "\n",
       "   checkout_count_last_10_days  checkout_count_last_30_days  \\\n",
       "0                            0                            5   \n",
       "1                            1                            1   \n",
       "2                            5                           19   \n",
       "3                            1                            3   \n",
       "4                            0                            0   \n",
       "\n",
       "   checkout_count_last_60_days  open_flag  row_id  attr_1  attr_2  attr_3  \\\n",
       "0                           10          0       0     1.0     1.0     2.0   \n",
       "1                            4          1       1     1.0     1.0     2.0   \n",
       "2                           27          0       2     NaN     1.0     0.0   \n",
       "3                            6          0       3     1.0     1.0     2.0   \n",
       "4                            0          0       4     NaN     1.0     0.0   \n",
       "\n",
       "    age        domain  \n",
       "0  47.0    @gmail.com  \n",
       "1  25.0  @hotmail.com  \n",
       "2   NaN    @yahoo.com  \n",
       "3  24.0    @yahoo.com  \n",
       "4   NaN  @hotmail.com  \n",
       "\n",
       "[5 rows x 23 columns]"
      ]
     },
     "metadata": {},
     "output_type": "display_data"
    },
    {
     "data": {
      "text/html": [
       "<div>\n",
       "<style scoped>\n",
       "    .dataframe tbody tr th:only-of-type {\n",
       "        vertical-align: middle;\n",
       "    }\n",
       "\n",
       "    .dataframe tbody tr th {\n",
       "        vertical-align: top;\n",
       "    }\n",
       "\n",
       "    .dataframe thead th {\n",
       "        text-align: right;\n",
       "    }\n",
       "</style>\n",
       "<table border=\"1\" class=\"dataframe\">\n",
       "  <thead>\n",
       "    <tr style=\"text-align: right;\">\n",
       "      <th></th>\n",
       "      <th>user_id</th>\n",
       "      <th>attr_1</th>\n",
       "      <th>attr_2</th>\n",
       "      <th>attr_3</th>\n",
       "      <th>age</th>\n",
       "      <th>domain</th>\n",
       "    </tr>\n",
       "  </thead>\n",
       "  <tbody>\n",
       "    <tr>\n",
       "      <th>0</th>\n",
       "      <td>0</td>\n",
       "      <td>NaN</td>\n",
       "      <td>1.0</td>\n",
       "      <td>0.0</td>\n",
       "      <td>NaN</td>\n",
       "      <td>@gmail.com</td>\n",
       "    </tr>\n",
       "    <tr>\n",
       "      <th>1</th>\n",
       "      <td>1</td>\n",
       "      <td>1.0</td>\n",
       "      <td>1.0</td>\n",
       "      <td>2.0</td>\n",
       "      <td>50.0</td>\n",
       "      <td>@gmail.com</td>\n",
       "    </tr>\n",
       "    <tr>\n",
       "      <th>2</th>\n",
       "      <td>2</td>\n",
       "      <td>NaN</td>\n",
       "      <td>1.0</td>\n",
       "      <td>0.0</td>\n",
       "      <td>NaN</td>\n",
       "      <td>other</td>\n",
       "    </tr>\n",
       "    <tr>\n",
       "      <th>3</th>\n",
       "      <td>3</td>\n",
       "      <td>NaN</td>\n",
       "      <td>1.0</td>\n",
       "      <td>0.0</td>\n",
       "      <td>NaN</td>\n",
       "      <td>@gmail.com</td>\n",
       "    </tr>\n",
       "    <tr>\n",
       "      <th>4</th>\n",
       "      <td>4</td>\n",
       "      <td>1.0</td>\n",
       "      <td>1.0</td>\n",
       "      <td>2.0</td>\n",
       "      <td>33.0</td>\n",
       "      <td>@gmail.com</td>\n",
       "    </tr>\n",
       "  </tbody>\n",
       "</table>\n",
       "</div>"
      ],
      "text/plain": [
       "   user_id  attr_1  attr_2  attr_3   age      domain\n",
       "0        0     NaN     1.0     0.0   NaN  @gmail.com\n",
       "1        1     1.0     1.0     2.0  50.0  @gmail.com\n",
       "2        2     NaN     1.0     0.0   NaN       other\n",
       "3        3     NaN     1.0     0.0   NaN  @gmail.com\n",
       "4        4     1.0     1.0     2.0  33.0  @gmail.com"
      ]
     },
     "metadata": {},
     "output_type": "display_data"
    }
   ],
   "source": [
    "display(train.head())\n",
    "display(users.head())"
   ]
  },
  {
   "cell_type": "markdown",
   "metadata": {},
   "source": [
    "**目標** : 預測郵件是否會被打開\n",
    "\n",
    "\n",
    "**data** : \n",
    "\n",
    "country_code : 城市代碼\n",
    "\n",
    "grass_date : 郵件發送時間(不同日期相同時間) => 刪掉 or 轉換為假日平日\n",
    "\n",
    "user_id : 使用者代號(key of join)\n",
    "\n",
    "subject_line_length : 郵件標題的長度\n",
    "\n",
    "last_open_day : 離上次打開郵件過了幾天(有出現Never open, target卻為1 => 將其改為0並移出trainset) \n",
    "\n",
    "last_login_day : 離上次登入過了幾天\n",
    "\n",
    "last_checkout_day : 離上次在蝦皮消費過了幾天\n",
    "\n",
    "open_count_last_n_days : 過去n天內使用者打開信件的次數\n",
    "\n",
    "open_login_last_n_days : 過去n天內使用者登入帳戶的次數\n",
    "\n",
    "open_checkout_last_n_days : 過去n天內使用者在蝦皮消費的次數\n",
    "\n",
    "open_flag : 打開(1)未打開(0)\n",
    "\n",
    "attr_1/2 : 用戶的某種屬性(未知) boolen\n",
    "\n",
    "attr_3 : 用戶的某種屬性(未知) categorical [0,1,2,3,4]\n",
    "\n",
    "age : 用戶年齡\n",
    "\n",
    "domain : 用戶信箱的網域"
   ]
  },
  {
   "cell_type": "markdown",
   "metadata": {},
   "source": [
    "**country_code**\n",
    "\n",
    "range : 1,2,3,4,5,6,7分別代表一個城市\n",
    "\n"
   ]
  },
  {
   "cell_type": "code",
   "execution_count": 25,
   "metadata": {},
   "outputs": [
    {
     "data": {
      "text/plain": [
       "1    44754\n",
       "3    28198\n",
       "2    24203\n",
       "4    10848\n",
       "5     9994\n",
       "6     6727\n",
       "7     4785\n",
       "Name: country_code, dtype: int64"
      ]
     },
     "execution_count": 25,
     "metadata": {},
     "output_type": "execute_result"
    }
   ],
   "source": [
    "#用戶在各城市的數量\n",
    "data_set['country_code'].value_counts()"
   ]
  },
  {
   "cell_type": "markdown",
   "metadata": {},
   "source": [
    "**grass_date**\n",
    "\n",
    "不同郵件寄出的時間除了日期都相同\n",
    "\n",
    "不同天/不同月的open ratio(open/not open)差不多(0.2左右)\n",
    "\n",
    "取出月份和天數, 並把天數轉為假日/平日"
   ]
  },
  {
   "cell_type": "markdown",
   "metadata": {},
   "source": [
    "**subject_line_length**\n",
    "\n",
    "大致呈現normal, 集中在30~50\n",
    "\n",
    "標題長度應該不太會影響open, 重要的是標題內容 => remove"
   ]
  },
  {
   "cell_type": "code",
   "execution_count": 108,
   "metadata": {
    "collapsed": true
   },
   "outputs": [
    {
     "data": {
      "text/plain": [
       "<matplotlib.axes._subplots.AxesSubplot at 0x1d34b100160>"
      ]
     },
     "execution_count": 108,
     "metadata": {},
     "output_type": "execute_result"
    },
    {
     "data": {
      "image/png": "[encoded data removed]",
      "text/plain": [
       "<Figure size 432x288 with 3 Axes>"
      ]
     },
     "metadata": {
      "needs_background": "light"
     },
     "output_type": "display_data"
    }
   ],
   "source": [
    "plt.subplot(311)\n",
    "train['subject_line_length'].plot(kind = 'hist')\n",
    "plt.subplot(312)\n",
    "test['subject_line_length'].plot(kind = 'hist')\n",
    "plt.subplot(313)\n",
    "data_set['subject_line_length'].plot(kind = 'hist')"
   ]
  },
  {
   "cell_type": "markdown",
   "metadata": {},
   "source": [
    "**last_open/login/checkout_day**\n",
    "\n",
    "除了數值以外還有never open/login/checkout, 直接轉為-1\n",
    "\n",
    "**open/login/checkout_count_n_days**\n",
    "\n",
    "以天數做normalization"
   ]
  },
  {
   "cell_type": "code",
   "execution_count": 30,
   "metadata": {},
   "outputs": [
    {
     "name": "stdout",
     "output_type": "stream",
     "text": [
      "open ratio of Never open : 0.061585528065975\n",
      "open ratio of Never login : 0.26523297491039427\n",
      "open ratio of Never checkout : 0.1380656610470275\n"
     ]
    }
   ],
   "source": [
    "for t in ['open', 'login', 'checkout']:\n",
    "    print(f'open ratio of Never {t} :', \n",
    "    train[(train[f'last_{t}_day'] == f'Never {t}')]['open_flag'].value_counts(normalize = True).iloc[1])"
   ]
  },
  {
   "cell_type": "markdown",
   "metadata": {},
   "source": [
    "**attr_1**\n",
    "\n",
    "發現attr_1為nan時, age也都為nan\n",
    "\n",
    "attr_1大部分都為1且為0時沒有提供有用資訊, 而attr_1為nan時open_ratio與為1時相似 => nan補1"
   ]
  },
  {
   "cell_type": "code",
   "execution_count": 165,
   "metadata": {},
   "outputs": [
    {
     "data": {
      "text/plain": [
       "0"
      ]
     },
     "execution_count": 165,
     "metadata": {},
     "output_type": "execute_result"
    }
   ],
   "source": [
    "#attr_1為nan與age為nan的數量相同\n",
    "data_set['attr_1'].isna().sum() - data_set['age'].isna().sum()"
   ]
  },
  {
   "cell_type": "code",
   "execution_count": 172,
   "metadata": {},
   "outputs": [
    {
     "data": {
      "text/plain": [
       "1.0    79998\n",
       "NaN    49497\n",
       "0.0       14\n",
       "Name: attr_1, dtype: int64"
      ]
     },
     "execution_count": 172,
     "metadata": {},
     "output_type": "execute_result"
    }
   ],
   "source": [
    "#attr_1大部分都為1\n",
    "data_set['attr_1'].value_counts(dropna = False)"
   ]
  },
  {
   "cell_type": "code",
   "execution_count": 167,
   "metadata": {},
   "outputs": [
    {
     "name": "stdout",
     "output_type": "stream",
     "text": [
      "open_ratio_of_nan :  0.15629386991109032\n",
      "open_ratio_of_not_nan :  0.15549386898647025\n"
     ]
    }
   ],
   "source": [
    "print('open_ratio_of_nan : ',\n",
    "      train[train['attr_1'].isna()]['open_flag'].value_counts(normalize = True).iloc[1])\n",
    "print('open_ratio_of_not_nan : ',\n",
    "        train[train['attr_1'] == 1]['open_flag'].value_counts(normalize = True).iloc[1])"
   ]
  },
  {
   "cell_type": "markdown",
   "metadata": {},
   "source": [
    "**attr_2**\n",
    "\n",
    "大部分都為1, 且不同值之間的open_ratio差異不大 => 可以remove"
   ]
  },
  {
   "cell_type": "code",
   "execution_count": 6,
   "metadata": {},
   "outputs": [
    {
     "data": {
      "text/plain": [
       "1.0    128762\n",
       "NaN       491\n",
       "0.0       256\n",
       "Name: attr_2, dtype: int64"
      ]
     },
     "execution_count": 6,
     "metadata": {},
     "output_type": "execute_result"
    }
   ],
   "source": [
    "#大部分為2\n",
    "data_set['attr_2'].value_counts(dropna = False)"
   ]
  },
  {
   "cell_type": "code",
   "execution_count": 7,
   "metadata": {},
   "outputs": [
    {
     "name": "stdout",
     "output_type": "stream",
     "text": [
      "open_ratio_of_nan :  0.1865079365079365\n",
      "open_ratio_of_1 :  0.15571416851259332\n",
      "open_ratio_of_0 :  0.13725490196078433\n"
     ]
    }
   ],
   "source": [
    "#open ratio差異不大\n",
    "print('open_ratio_of_nan : ',\n",
    "      train[train['attr_2'].isna()]['open_flag'].value_counts(normalize = True).iloc[1])\n",
    "print('open_ratio_of_1 : ',\n",
    "        train[train['attr_2'] == 1]['open_flag'].value_counts(normalize = True).iloc[1])\n",
    "print('open_ratio_of_0 : ',\n",
    "        train[train['attr_2'] == 0]['open_flag'].value_counts(normalize = True).iloc[1])"
   ]
  },
  {
   "cell_type": "markdown",
   "metadata": {},
   "source": [
    "**attr_3**\n",
    "\n",
    "nan只占不到1%, 大部分為0,1,2\n",
    "\n",
    "不同數值間的open ratio差不多 => nan直接補0就好"
   ]
  },
  {
   "cell_type": "code",
   "execution_count": 9,
   "metadata": {},
   "outputs": [
    {
     "data": {
      "text/plain": [
       "0.0    0.382051\n",
       "2.0    0.318488\n",
       "1.0    0.242323\n",
       "4.0    0.029813\n",
       "3.0    0.027017\n",
       "NaN    0.000309\n",
       "Name: attr_3, dtype: float64"
      ]
     },
     "execution_count": 9,
     "metadata": {},
     "output_type": "execute_result"
    }
   ],
   "source": [
    "#nan佔極少數\n",
    "data_set['attr_3'].value_counts(dropna = False, normalize = True)"
   ]
  },
  {
   "cell_type": "code",
   "execution_count": 10,
   "metadata": {},
   "outputs": [
    {
     "name": "stdout",
     "output_type": "stream",
     "text": [
      "open_ratio_of_0 0.1562668779029993\n",
      "open_ratio_of_1 0.1548016934046346\n",
      "open_ratio_of_2 0.15592286501377411\n",
      "open_ratio_of_3 0.15227159261108336\n",
      "open_ratio_of_4 0.15945330296127563\n"
     ]
    }
   ],
   "source": [
    "#open ratio差異不大\n",
    "for i in range(5):\n",
    "    print(f'open_ratio_of_{i}', \n",
    "          train[train['attr_3'] == i]['open_flag'].value_counts(normalize = True).iloc[1])"
   ]
  },
  {
   "cell_type": "code",
   "execution_count": 13,
   "metadata": {},
   "outputs": [],
   "source": [
    "#attr_3 fill nan with 0\n",
    "train['attr_3'] = train['attr_3'].fillna(0)\n",
    "test['attr_3'] = test['attr_3'].fillna(0)\n",
    "data_set['attr_3'] = data_set['attr_3'].fillna(0)"
   ]
  },
  {
   "cell_type": "markdown",
   "metadata": {},
   "source": [
    "**age**\n",
    "\n",
    "存在outlier => 小於18或大於90轉成nan\n",
    "\n",
    "6X%的資料為nan, 補 -1\n",
    "\n",
    "open與not open的年齡分佈差異不大 => 合理\n",
    "\n",
    "nan和not nan的open ratio差異不大\n"
   ]
  },
  {
   "cell_type": "code",
   "execution_count": 20,
   "metadata": {},
   "outputs": [
    {
     "name": "stdout",
     "output_type": "stream",
     "text": [
      "ratio of nan/not nan :  0.6186197070439434\n"
     ]
    }
   ],
   "source": [
    "#有60%的data為nan\n",
    "print('ratio of nan/not nan : ',data_set['age'].isna().sum()/(~data_set['age'].isna()).sum())"
   ]
  },
  {
   "cell_type": "code",
   "execution_count": 21,
   "metadata": {},
   "outputs": [
    {
     "data": {
      "text/plain": [
       "<matplotlib.axes._subplots.AxesSubplot at 0x1ca382ba630>"
      ]
     },
     "execution_count": 21,
     "metadata": {},
     "output_type": "execute_result"
    },
    {
     "data": {
      "image/png": "[encoded data removed]",
      "text/plain": [
       "<Figure size 432x288 with 1 Axes>"
      ]
     },
     "metadata": {
      "needs_background": "light"
     },
     "output_type": "display_data"
    }
   ],
   "source": [
    "#年齡不可能為負或是一百多 => 存在outlier\n",
    "data_set['age'].plot(kind = 'hist')"
   ]
  },
  {
   "cell_type": "code",
   "execution_count": 31,
   "metadata": {},
   "outputs": [
    {
     "data": {
      "text/plain": [
       "<matplotlib.axes._subplots.AxesSubplot at 0x1ca35fb13c8>"
      ]
     },
     "execution_count": 31,
     "metadata": {},
     "output_type": "execute_result"
    },
    {
     "data": {
      "image/png": "[encoded data removed]",
      "text/plain": [
       "<Figure size 432x288 with 1 Axes>"
      ]
     },
     "metadata": {
      "needs_background": "light"
     },
     "output_type": "display_data"
    }
   ],
   "source": [
    "#open和not open的年齡分佈差異不大\n",
    "train_open = train[train['open_flag'] == 1]\n",
    "train_not_open = train[train['open_flag'] == 0]\n",
    "sns.distplot(train_open['age'], hist = False, label = 'open')\n",
    "sns.distplot(train_not_open['age'], hist = False, label = 'not_open')"
   ]
  },
  {
   "cell_type": "code",
   "execution_count": 32,
   "metadata": {},
   "outputs": [
    {
     "name": "stdout",
     "output_type": "stream",
     "text": [
      "open ratio of nan :  0.156185424989668\n",
      "open ratio of non nan :  0.15551760555468172\n"
     ]
    }
   ],
   "source": [
    "#open ratio在nan與not nan差異不大\n",
    "print('open ratio of nan : ',\n",
    "      train[train['age'].isna()]['open_flag'].value_counts(normalize = True).iloc[1])\n",
    "print('open ratio of non nan : ',\n",
    "      train[~train['age'].isna()]['open_flag'].value_counts(normalize = True).iloc[1])"
   ]
  },
  {
   "cell_type": "markdown",
   "metadata": {},
   "source": [
    "**domain**\n",
    "\n",
    "85%為gmail, nan只有0.01% => 轉為other\n",
    "\n",
    "rocketmail.com的open ratio較高其他則差不多\n",
    "\n",
    "rocketmail.com於2013年停止申請"
   ]
  },
  {
   "cell_type": "code",
   "execution_count": 36,
   "metadata": {},
   "outputs": [
    {
     "data": {
      "text/plain": [
       "@gmail.com         0.846814\n",
       "@yahoo.com         0.074088\n",
       "@hotmail.com       0.038777\n",
       "other              0.017358\n",
       "@icloud.com        0.006208\n",
       "@qq.com            0.005946\n",
       "@outlook.com       0.003212\n",
       "@ymail.com         0.002664\n",
       "@live.com          0.002363\n",
       "@163.com           0.001390\n",
       "@rocketmail.com    0.000873\n",
       "NaN                0.000309\n",
       "Name: domain, dtype: float64"
      ]
     },
     "execution_count": 36,
     "metadata": {},
     "output_type": "execute_result"
    }
   ],
   "source": [
    "data_set['domain'].value_counts(normalize = True, dropna = False)"
   ]
  },
  {
   "cell_type": "code",
   "execution_count": 44,
   "metadata": {},
   "outputs": [
    {
     "data": {
      "text/plain": [
       "domain           open_flag\n",
       "@163.com         0            0.838384\n",
       "                 1            0.161616\n",
       "@gmail.com       0            0.845101\n",
       "                 1            0.154899\n",
       "@hotmail.com     0            0.835377\n",
       "                 1            0.164623\n",
       "@icloud.com      0            0.850220\n",
       "                 1            0.149780\n",
       "@live.com        0            0.828402\n",
       "                 1            0.171598\n",
       "@outlook.com     0            0.844898\n",
       "                 1            0.155102\n",
       "@qq.com          0            0.846154\n",
       "                 1            0.153846\n",
       "@rocketmail.com  0            0.797101\n",
       "                 1            0.202899\n",
       "@yahoo.com       0            0.837201\n",
       "                 1            0.162799\n",
       "@ymail.com       0            0.826316\n",
       "                 1            0.173684\n",
       "other            0            0.856444\n",
       "                 1            0.143556\n",
       "Name: open_flag, dtype: float64"
      ]
     },
     "execution_count": 44,
     "metadata": {},
     "output_type": "execute_result"
    }
   ],
   "source": [
    "#@rocketmail.com的open ratio較大, 其他的則差不多\n",
    "train.groupby('domain')['open_flag'].value_counts(normalize = True, dropna = False)"
   ]
  },
  {
   "cell_type": "code",
   "execution_count": 128,
   "metadata": {},
   "outputs": [],
   "source": [
    "def data_clean(df):\n",
    "    #處理grass_date\n",
    "    def adjust_date(df):\n",
    "        df['grass_date'] = pd.to_datetime(df['grass_date'])\n",
    "        df['day_of_week'] = df['grass_date'].dt.dayofweek.astype('category')\n",
    "        df['month'] = df['grass_date'].dt.month.astype('category')    \n",
    "        #將天數轉為假日/平日\n",
    "        df['is_busday'] = df['grass_date'].apply(lambda x : np.is_busday(x.strftime('%Y-%m-%d'))).astype('int64')\n",
    "        df = df.drop(['grass_date'], axis = 1)\n",
    "        return df\n",
    "    #處理last_open/login/checkout_day\n",
    "    def adjust_last_x_day(day):\n",
    "        if day.isnumeric():\n",
    "            return int(day)\n",
    "        else:\n",
    "            #Never x 轉為-1\n",
    "            return -1\n",
    "    #處理age\n",
    "    def adjust_age(age):\n",
    "        if age < 18 or age >= 90:\n",
    "            return np.nan\n",
    "        else:\n",
    "            return age\n",
    "    \n",
    "    #處理domain\n",
    "    def adjust_domain(domain):\n",
    "        if domain:\n",
    "            return domain\n",
    "        else:\n",
    "            #nan轉成other\n",
    "            return 'other'\n",
    "        \n",
    "    df = adjust_date(df)    \n",
    "    #apply adjust_last_x_day\n",
    "    for t in ['open', 'login', 'checkout']:\n",
    "        df[f'last_{t}_day'] = df[f'last_{t}_day'].apply(adjust_last_x_day)\n",
    "    #normalization of open/login/checkout_count_last_days    \n",
    "    for t in ['open', 'login', 'checkout']:\n",
    "        for n in [10, 30, 60]:\n",
    "            df[f'{t}_count_last_{n}_days'] = df[f'{t}_count_last_{n}_days'].apply(lambda x : x/n)\n",
    "    \n",
    "    df = df.drop(['row_id', 'subject_line_length'], axis = 1)\n",
    "    df['attr_1'] = df['attr_1'].fillna(1)\n",
    "    df['attr_2'] = df.drop(['attr_2'], axis = 1)\n",
    "    df['attr_3'] = df['attr_3'].fillna(0)\n",
    "    df['age'] = df['age'].apply(adjust_age)\n",
    "    df['age'] = df['age'].fillna(-1)\n",
    "    df['domain'] = df['domain'].apply(adjust_domain)\n",
    "    df = pd.get_dummies(df, columns = ['domain'])\n",
    "    \n",
    "    return df"
   ]
  },
  {
   "cell_type": "code",
   "execution_count": 129,
   "metadata": {},
   "outputs": [],
   "source": [
    "train_set = data_clean(train)\n",
    "test_set = data_clean(test)"
   ]
  },
  {
   "cell_type": "code",
   "execution_count": 130,
   "metadata": {},
   "outputs": [
    {
     "data": {
      "text/plain": [
       "GradientBoostingClassifier(criterion='friedman_mse', init=None,\n",
       "              learning_rate=0.1, loss='deviance', max_depth=3,\n",
       "              max_features=None, max_leaf_nodes=None,\n",
       "              min_impurity_decrease=0.0, min_impurity_split=None,\n",
       "              min_samples_leaf=1, min_samples_split=2,\n",
       "              min_weight_fraction_leaf=0.0, n_estimators=100,\n",
       "              n_iter_no_change=None, presort='auto', random_state=None,\n",
       "              subsample=1.0, tol=0.0001, validation_fraction=0.1,\n",
       "              verbose=0, warm_start=False)"
      ]
     },
     "execution_count": 130,
     "metadata": {},
     "output_type": "execute_result"
    }
   ],
   "source": [
    "model = GradientBoostingClassifier()\n",
    "model.fit(train_set.drop(['open_flag'], axis = 1), train_set['open_flag'])"
   ]
  },
  {
   "cell_type": "code",
   "execution_count": 131,
   "metadata": {},
   "outputs": [],
   "source": [
    "prediction = model.predict(test_set)"
   ]
  },
  {
   "cell_type": "code",
   "execution_count": 132,
   "metadata": {},
   "outputs": [],
   "source": [
    "submission = pd.DataFrame()\n",
    "submission['row_id'] = np.arange(prediction.size)\n",
    "submission['open_flag'] = prediction\n",
    "submission.to_csv('sub1.csv', index = None)"
   ]
  },
  {
   "cell_type": "code",
   "execution_count": null,
   "metadata": {},
   "outputs": [],
   "source": []
  }
 ],
 "metadata": {
  "kernelspec": {
   "display_name": "Python 3",
   "language": "python",
   "name": "python3"
  },
  "language_info": {
   "codemirror_mode": {
    "name": "ipython",
    "version": 3
   },
   "file_extension": ".py",
   "mimetype": "text/x-python",
   "name": "python",
   "nbconvert_exporter": "python",
   "pygments_lexer": "ipython3",
   "version": "3.7.3"
  }
 },
 "nbformat": 4,
 "nbformat_minor": 2
}
